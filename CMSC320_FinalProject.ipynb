{
 "cells": [
  {
   "cell_type": "markdown",
   "id": "9a5b3482-8a92-4d4d-b5e3-0b1f1e74da51",
   "metadata": {},
   "source": [
    "# **How much did Stephen Curry change the game of basketball?**\n",
    "\n",
    "### Tutorial: Analysis on NBA statistics\n",
    "\n",
    "Joonkyu Sok\\\n",
    "CMSC320\\\n",
    "Final Project\\\n",
    "December 16, 2022\\\n",
    "\n",
    "### **1. Introduction**\n",
    "Stephen Curry is known as the greatest shooter of all time in the game of basketball. Not only did he win 4 championships throughout his career with multiple accolades, but he also is named as the primary reason of how the modern basketball game has formed. More specifically, how important the 3 point shot has become. For those who don't know basketball, a 3 point shot is a long distance shot from behind the 'arc' (3 point line) that gives an extra point than the regular 2 point shot which is inside the 'arc'. In the past, especially in the 90s, the 3 point shot was never prioritized as tall centers were the primary scorers who usually shot close ranged. A prime example of how the game was played back then is seen through (now retired) Kareem Abdul Jabbar who has currently the most points in NBA history, but only shot 1 3-point shot. In this tutorial, we would like to analyze just how much of an effect Stephen Curry had on today's game of basketball by looking at the nba statistics from the years 1991-2022.\n"
   ]
  },
  {
   "cell_type": "markdown",
   "id": "8a925bfc-264b-4ab1-8943-f5a5e978f0dc",
   "metadata": {},
   "source": [
    "### **2. Data of Teams**\n",
    "\n",
    "We will start by importing all the necessary Python packages that will help us load/scrape and wrangle data from the website: [Link to basketball reference](https://www.basketball-reference.com/)\n",
    "* [requests](https://pypi.org/project/requests/): this is a package that will allow us to get the html data of a specific url necessary for website scraping\n",
    "* [time](https://realpython.com/python-time-module/): this package will allow us to request html texts from websites in intervals to avoid overloading the website server\n",
    "* [BeautifulSoup](https://www.geeksforgeeks.org/implementing-web-scraping-python-beautiful-soup/): this package will allow us to parse the html page we recieved from requests in order to find a specific table in the page we want\n",
    "* [pandas](https://pypi.org/project/pandas/): this package will allow us the create dataframes in order to perform different data analysis"
   ]
  },
  {
   "cell_type": "code",
   "execution_count": 25,
   "id": "d7feef60-b1c0-4633-b17a-d0dc1ee48887",
   "metadata": {},
   "outputs": [],
   "source": [
    "import requests\n",
    "import time\n",
    "from bs4 import BeautifulSoup\n",
    "import pandas as pd\n",
    "years = list(range(1991, 2023))"
   ]
  },
  {
   "cell_type": "markdown",
   "id": "8b25a9c7-8c04-4103-b512-f565e65c2c88",
   "metadata": {},
   "source": [
    "We will first set a list of years that we want to scrape from the basketball reference website"
   ]
  },
  {
   "cell_type": "code",
   "execution_count": 45,
   "id": "92638bde-7669-4706-baa2-51357b3f9911",
   "metadata": {},
   "outputs": [],
   "source": [
    "url_start = \"https://www.basketball-reference.com/leagues/NBA_{}.html\""
   ]
  },
  {
   "cell_type": "markdown",
   "id": "eb2fd42f-83ba-46b5-bb92-38ee4d2fbd41",
   "metadata": {},
   "source": [
    "Then we will use formatting \"{}\" in the url so that we are able to input years we want"
   ]
  },
  {
   "cell_type": "code",
   "execution_count": 46,
   "id": "1f37cb3c-0c64-4171-85ee-992a1c834706",
   "metadata": {},
   "outputs": [],
   "source": [
    "for year in years:\n",
    "    url = url_start.format(year)\n",
    "    time.sleep(3)\n",
    "    data = requests.get(url)\n",
    "    with open(\"season/{}.html\".format(year), \"w+\") as f:\n",
    "        f.write(data.text)       "
   ]
  },
  {
   "cell_type": "markdown",
   "id": "f5828f09-3464-4ef1-9462-b8dc68f8e0ef",
   "metadata": {},
   "source": [
    "Once we have the formatted url, using the .format method, we can now get the url of every year within the for loop. Using the requests library we will then save the html into the variable 'data' and write it to a file with the year as its name."
   ]
  },
  {
   "cell_type": "code",
   "execution_count": 4,
   "id": "9492964e-c651-464e-8b9d-c6a42f22c5c2",
   "metadata": {},
   "outputs": [],
   "source": [
    "dfs = []\n",
    "for year in years:\n",
    "    with open(\"season/{}.html\".format(year)) as f:\n",
    "        page = f.read()\n",
    "    soup = BeautifulSoup(page, \"html.parser\")\n",
    "    season_table = soup.find(id=\"switcher_totals_team-opponent\")\n",
    "    season = pd.read_html(str(season_table))[0]\n",
    "    season[\"Year\"] = year\n",
    "    dfs.append(season)\n",
    "seasons = pd.concat(dfs)"
   ]
  },
  {
   "cell_type": "markdown",
   "id": "39cd2534-2ea1-4d18-a8ac-11ea282372ab",
   "metadata": {},
   "source": [
    "The next step is to then use BeautifulSoup to parse the html page we saved so that we can find the specific table in the html page. We want the table with all the teams in that season and their stats. To see which part of the html is the table we want, we can inspect the website opening the source html and hover over the elements until we see our table highlighted. Then using the unique 'id' element of the table we will be able to find it using the .find method of BeautifulSoup. In our case the id was \"switcher_totals_team-opponent.\" We then use pandas to turn the html table into a dataframe. Because we are for looping for each year, we need a column that indicates which year we are in so that when we combine all the dataframes we aren't confused which year is which. Lastly using .concat method, we can combine the list of data frames into 1 big dataframe of all the years."
   ]
  },
  {
   "cell_type": "markdown",
   "id": "f6f80c6c-763f-4572-b2ee-4682c231c92f",
   "metadata": {},
   "source": [
    "### Data Cleaning\n",
    "Just a quick data cleaning of getting rid of the astericks from each team names and also dropping the last row which is NaN of the averages of the whole season."
   ]
  },
  {
   "cell_type": "code",
   "execution_count": 8,
   "id": "b1e7276b-06e7-48ff-aa02-6a2189981023",
   "metadata": {},
   "outputs": [
    {
     "data": {
      "text/html": [
       "<div>\n",
       "<style scoped>\n",
       "    .dataframe tbody tr th:only-of-type {\n",
       "        vertical-align: middle;\n",
       "    }\n",
       "\n",
       "    .dataframe tbody tr th {\n",
       "        vertical-align: top;\n",
       "    }\n",
       "\n",
       "    .dataframe thead th {\n",
       "        text-align: right;\n",
       "    }\n",
       "</style>\n",
       "<table border=\"1\" class=\"dataframe\">\n",
       "  <thead>\n",
       "    <tr style=\"text-align: right;\">\n",
       "      <th></th>\n",
       "      <th>Rk</th>\n",
       "      <th>Team</th>\n",
       "      <th>G</th>\n",
       "      <th>MP</th>\n",
       "      <th>FG</th>\n",
       "      <th>FGA</th>\n",
       "      <th>FG%</th>\n",
       "      <th>3P</th>\n",
       "      <th>3PA</th>\n",
       "      <th>3P%</th>\n",
       "      <th>...</th>\n",
       "      <th>ORB</th>\n",
       "      <th>DRB</th>\n",
       "      <th>TRB</th>\n",
       "      <th>AST</th>\n",
       "      <th>STL</th>\n",
       "      <th>BLK</th>\n",
       "      <th>TOV</th>\n",
       "      <th>PF</th>\n",
       "      <th>PTS</th>\n",
       "      <th>Year</th>\n",
       "    </tr>\n",
       "  </thead>\n",
       "  <tbody>\n",
       "    <tr>\n",
       "      <th>0</th>\n",
       "      <td>1.0</td>\n",
       "      <td>Denver Nuggets</td>\n",
       "      <td>82</td>\n",
       "      <td>19730</td>\n",
       "      <td>3901</td>\n",
       "      <td>8868</td>\n",
       "      <td>0.440</td>\n",
       "      <td>300</td>\n",
       "      <td>1059</td>\n",
       "      <td>0.283</td>\n",
       "      <td>...</td>\n",
       "      <td>1520</td>\n",
       "      <td>2530</td>\n",
       "      <td>4050</td>\n",
       "      <td>2005</td>\n",
       "      <td>856</td>\n",
       "      <td>406</td>\n",
       "      <td>1332</td>\n",
       "      <td>2235</td>\n",
       "      <td>9828</td>\n",
       "      <td>1991</td>\n",
       "    </tr>\n",
       "    <tr>\n",
       "      <th>1</th>\n",
       "      <td>2.0</td>\n",
       "      <td>Golden State Warriors</td>\n",
       "      <td>82</td>\n",
       "      <td>19805</td>\n",
       "      <td>3566</td>\n",
       "      <td>7346</td>\n",
       "      <td>0.485</td>\n",
       "      <td>270</td>\n",
       "      <td>801</td>\n",
       "      <td>0.337</td>\n",
       "      <td>...</td>\n",
       "      <td>1113</td>\n",
       "      <td>2306</td>\n",
       "      <td>3419</td>\n",
       "      <td>1954</td>\n",
       "      <td>803</td>\n",
       "      <td>378</td>\n",
       "      <td>1359</td>\n",
       "      <td>2207</td>\n",
       "      <td>9564</td>\n",
       "      <td>1991</td>\n",
       "    </tr>\n",
       "    <tr>\n",
       "      <th>2</th>\n",
       "      <td>3.0</td>\n",
       "      <td>Portland Trail Blazers</td>\n",
       "      <td>82</td>\n",
       "      <td>19905</td>\n",
       "      <td>3577</td>\n",
       "      <td>7369</td>\n",
       "      <td>0.485</td>\n",
       "      <td>341</td>\n",
       "      <td>904</td>\n",
       "      <td>0.377</td>\n",
       "      <td>...</td>\n",
       "      <td>1202</td>\n",
       "      <td>2561</td>\n",
       "      <td>3763</td>\n",
       "      <td>2254</td>\n",
       "      <td>724</td>\n",
       "      <td>410</td>\n",
       "      <td>1309</td>\n",
       "      <td>1975</td>\n",
       "      <td>9407</td>\n",
       "      <td>1991</td>\n",
       "    </tr>\n",
       "    <tr>\n",
       "      <th>3</th>\n",
       "      <td>4.0</td>\n",
       "      <td>Phoenix Suns</td>\n",
       "      <td>82</td>\n",
       "      <td>19730</td>\n",
       "      <td>3573</td>\n",
       "      <td>7199</td>\n",
       "      <td>0.496</td>\n",
       "      <td>138</td>\n",
       "      <td>432</td>\n",
       "      <td>0.319</td>\n",
       "      <td>...</td>\n",
       "      <td>1132</td>\n",
       "      <td>2598</td>\n",
       "      <td>3730</td>\n",
       "      <td>2209</td>\n",
       "      <td>687</td>\n",
       "      <td>535</td>\n",
       "      <td>1302</td>\n",
       "      <td>1850</td>\n",
       "      <td>9348</td>\n",
       "      <td>1991</td>\n",
       "    </tr>\n",
       "    <tr>\n",
       "      <th>4</th>\n",
       "      <td>5.0</td>\n",
       "      <td>Indiana Pacers</td>\n",
       "      <td>82</td>\n",
       "      <td>19805</td>\n",
       "      <td>3450</td>\n",
       "      <td>6994</td>\n",
       "      <td>0.493</td>\n",
       "      <td>249</td>\n",
       "      <td>749</td>\n",
       "      <td>0.332</td>\n",
       "      <td>...</td>\n",
       "      <td>1018</td>\n",
       "      <td>2376</td>\n",
       "      <td>3394</td>\n",
       "      <td>2181</td>\n",
       "      <td>658</td>\n",
       "      <td>357</td>\n",
       "      <td>1355</td>\n",
       "      <td>2088</td>\n",
       "      <td>9159</td>\n",
       "      <td>1991</td>\n",
       "    </tr>\n",
       "  </tbody>\n",
       "</table>\n",
       "<p>5 rows × 26 columns</p>\n",
       "</div>"
      ],
      "text/plain": [
       "    Rk                    Team   G     MP    FG   FGA    FG%   3P   3PA  \\\n",
       "0  1.0          Denver Nuggets  82  19730  3901  8868  0.440  300  1059   \n",
       "1  2.0   Golden State Warriors  82  19805  3566  7346  0.485  270   801   \n",
       "2  3.0  Portland Trail Blazers  82  19905  3577  7369  0.485  341   904   \n",
       "3  4.0            Phoenix Suns  82  19730  3573  7199  0.496  138   432   \n",
       "4  5.0          Indiana Pacers  82  19805  3450  6994  0.493  249   749   \n",
       "\n",
       "     3P%  ...   ORB   DRB   TRB   AST  STL  BLK   TOV    PF   PTS  Year  \n",
       "0  0.283  ...  1520  2530  4050  2005  856  406  1332  2235  9828  1991  \n",
       "1  0.337  ...  1113  2306  3419  1954  803  378  1359  2207  9564  1991  \n",
       "2  0.377  ...  1202  2561  3763  2254  724  410  1309  1975  9407  1991  \n",
       "3  0.319  ...  1132  2598  3730  2209  687  535  1302  1850  9348  1991  \n",
       "4  0.332  ...  1018  2376  3394  2181  658  357  1355  2088  9159  1991  \n",
       "\n",
       "[5 rows x 26 columns]"
      ]
     },
     "execution_count": 8,
     "metadata": {},
     "output_type": "execute_result"
    }
   ],
   "source": [
    "seasons[\"Team\"] = seasons[\"Team\"].apply(lambda x:  x[:len(x)-1] if x[-1] == '*' else x)\n",
    "seasons = seasons.dropna()\n",
    "seasons.head()"
   ]
  },
  {
   "cell_type": "markdown",
   "id": "c7dec3df-8866-4871-a79a-8aa6f3d201c3",
   "metadata": {},
   "source": [
    "Another crucial dataset to our tutorial is the mean of all the teams for each year. We will perform this calculation using groupby with variable 'Year' and returning it into a new dataframe."
   ]
  },
  {
   "cell_type": "code",
   "execution_count": 9,
   "id": "b4041c9b-f802-4ec8-bfe8-3a297b5e211c",
   "metadata": {},
   "outputs": [
    {
     "data": {
      "text/html": [
       "<div>\n",
       "<style scoped>\n",
       "    .dataframe tbody tr th:only-of-type {\n",
       "        vertical-align: middle;\n",
       "    }\n",
       "\n",
       "    .dataframe tbody tr th {\n",
       "        vertical-align: top;\n",
       "    }\n",
       "\n",
       "    .dataframe thead th {\n",
       "        text-align: right;\n",
       "    }\n",
       "</style>\n",
       "<table border=\"1\" class=\"dataframe\">\n",
       "  <thead>\n",
       "    <tr style=\"text-align: right;\">\n",
       "      <th></th>\n",
       "      <th>Rk</th>\n",
       "      <th>G</th>\n",
       "      <th>MP</th>\n",
       "      <th>FG</th>\n",
       "      <th>FGA</th>\n",
       "      <th>FG%</th>\n",
       "      <th>3P</th>\n",
       "      <th>3PA</th>\n",
       "      <th>3P%</th>\n",
       "      <th>2P</th>\n",
       "      <th>...</th>\n",
       "      <th>FT%</th>\n",
       "      <th>ORB</th>\n",
       "      <th>DRB</th>\n",
       "      <th>TRB</th>\n",
       "      <th>AST</th>\n",
       "      <th>STL</th>\n",
       "      <th>BLK</th>\n",
       "      <th>TOV</th>\n",
       "      <th>PF</th>\n",
       "      <th>PTS</th>\n",
       "    </tr>\n",
       "    <tr>\n",
       "      <th>Year</th>\n",
       "      <th></th>\n",
       "      <th></th>\n",
       "      <th></th>\n",
       "      <th></th>\n",
       "      <th></th>\n",
       "      <th></th>\n",
       "      <th></th>\n",
       "      <th></th>\n",
       "      <th></th>\n",
       "      <th></th>\n",
       "      <th></th>\n",
       "      <th></th>\n",
       "      <th></th>\n",
       "      <th></th>\n",
       "      <th></th>\n",
       "      <th></th>\n",
       "      <th></th>\n",
       "      <th></th>\n",
       "      <th></th>\n",
       "      <th></th>\n",
       "      <th></th>\n",
       "    </tr>\n",
       "  </thead>\n",
       "  <tbody>\n",
       "    <tr>\n",
       "      <th>1991</th>\n",
       "      <td>14.0</td>\n",
       "      <td>82.0</td>\n",
       "      <td>19824.444444</td>\n",
       "      <td>3390.777778</td>\n",
       "      <td>7150.333333</td>\n",
       "      <td>0.474667</td>\n",
       "      <td>187.222222</td>\n",
       "      <td>585.629630</td>\n",
       "      <td>0.314630</td>\n",
       "      <td>3203.555556</td>\n",
       "      <td>...</td>\n",
       "      <td>0.764148</td>\n",
       "      <td>1146.629630</td>\n",
       "      <td>2400.629630</td>\n",
       "      <td>3547.259259</td>\n",
       "      <td>2028.962963</td>\n",
       "      <td>704.222222</td>\n",
       "      <td>430.518519</td>\n",
       "      <td>1315.370370</td>\n",
       "      <td>1900.148148</td>\n",
       "      <td>8717.407407</td>\n",
       "    </tr>\n",
       "    <tr>\n",
       "      <th>1992</th>\n",
       "      <td>14.0</td>\n",
       "      <td>82.0</td>\n",
       "      <td>19826.296296</td>\n",
       "      <td>3384.111111</td>\n",
       "      <td>7162.629630</td>\n",
       "      <td>0.472407</td>\n",
       "      <td>206.925926</td>\n",
       "      <td>625.851852</td>\n",
       "      <td>0.325407</td>\n",
       "      <td>3177.185185</td>\n",
       "      <td>...</td>\n",
       "      <td>0.758333</td>\n",
       "      <td>1177.296296</td>\n",
       "      <td>2403.444444</td>\n",
       "      <td>3580.740741</td>\n",
       "      <td>2007.111111</td>\n",
       "      <td>708.555556</td>\n",
       "      <td>452.444444</td>\n",
       "      <td>1275.185185</td>\n",
       "      <td>1823.222222</td>\n",
       "      <td>8635.370370</td>\n",
       "    </tr>\n",
       "    <tr>\n",
       "      <th>1993</th>\n",
       "      <td>14.0</td>\n",
       "      <td>82.0</td>\n",
       "      <td>19820.740741</td>\n",
       "      <td>3335.407407</td>\n",
       "      <td>7047.962963</td>\n",
       "      <td>0.473370</td>\n",
       "      <td>246.962963</td>\n",
       "      <td>734.222222</td>\n",
       "      <td>0.331259</td>\n",
       "      <td>3088.444444</td>\n",
       "      <td>...</td>\n",
       "      <td>0.754259</td>\n",
       "      <td>1130.962963</td>\n",
       "      <td>2406.222222</td>\n",
       "      <td>3537.185185</td>\n",
       "      <td>2026.111111</td>\n",
       "      <td>701.185185</td>\n",
       "      <td>428.074074</td>\n",
       "      <td>1304.814815</td>\n",
       "      <td>1898.851852</td>\n",
       "      <td>8632.333333</td>\n",
       "    </tr>\n",
       "    <tr>\n",
       "      <th>1994</th>\n",
       "      <td>14.0</td>\n",
       "      <td>82.0</td>\n",
       "      <td>19770.740741</td>\n",
       "      <td>3224.592593</td>\n",
       "      <td>6924.111111</td>\n",
       "      <td>0.465778</td>\n",
       "      <td>270.407407</td>\n",
       "      <td>811.370370</td>\n",
       "      <td>0.332185</td>\n",
       "      <td>2954.185185</td>\n",
       "      <td>...</td>\n",
       "      <td>0.734222</td>\n",
       "      <td>1136.555556</td>\n",
       "      <td>2389.074074</td>\n",
       "      <td>3525.629630</td>\n",
       "      <td>2000.111111</td>\n",
       "      <td>727.851852</td>\n",
       "      <td>428.851852</td>\n",
       "      <td>1312.000000</td>\n",
       "      <td>1817.592593</td>\n",
       "      <td>8323.592593</td>\n",
       "    </tr>\n",
       "    <tr>\n",
       "      <th>1995</th>\n",
       "      <td>14.0</td>\n",
       "      <td>82.0</td>\n",
       "      <td>19837.407407</td>\n",
       "      <td>3115.000000</td>\n",
       "      <td>6682.333333</td>\n",
       "      <td>0.466296</td>\n",
       "      <td>450.111111</td>\n",
       "      <td>1255.148148</td>\n",
       "      <td>0.358741</td>\n",
       "      <td>2664.888889</td>\n",
       "      <td>...</td>\n",
       "      <td>0.736630</td>\n",
       "      <td>1069.555556</td>\n",
       "      <td>2338.074074</td>\n",
       "      <td>3407.629630</td>\n",
       "      <td>1915.888889</td>\n",
       "      <td>678.888889</td>\n",
       "      <td>423.333333</td>\n",
       "      <td>1307.518519</td>\n",
       "      <td>1924.481481</td>\n",
       "      <td>8315.481481</td>\n",
       "    </tr>\n",
       "  </tbody>\n",
       "</table>\n",
       "<p>5 rows × 24 columns</p>\n",
       "</div>"
      ],
      "text/plain": [
       "        Rk     G            MP           FG          FGA       FG%  \\\n",
       "Year                                                                 \n",
       "1991  14.0  82.0  19824.444444  3390.777778  7150.333333  0.474667   \n",
       "1992  14.0  82.0  19826.296296  3384.111111  7162.629630  0.472407   \n",
       "1993  14.0  82.0  19820.740741  3335.407407  7047.962963  0.473370   \n",
       "1994  14.0  82.0  19770.740741  3224.592593  6924.111111  0.465778   \n",
       "1995  14.0  82.0  19837.407407  3115.000000  6682.333333  0.466296   \n",
       "\n",
       "              3P          3PA       3P%           2P  ...       FT%  \\\n",
       "Year                                                  ...             \n",
       "1991  187.222222   585.629630  0.314630  3203.555556  ...  0.764148   \n",
       "1992  206.925926   625.851852  0.325407  3177.185185  ...  0.758333   \n",
       "1993  246.962963   734.222222  0.331259  3088.444444  ...  0.754259   \n",
       "1994  270.407407   811.370370  0.332185  2954.185185  ...  0.734222   \n",
       "1995  450.111111  1255.148148  0.358741  2664.888889  ...  0.736630   \n",
       "\n",
       "              ORB          DRB          TRB          AST         STL  \\\n",
       "Year                                                                   \n",
       "1991  1146.629630  2400.629630  3547.259259  2028.962963  704.222222   \n",
       "1992  1177.296296  2403.444444  3580.740741  2007.111111  708.555556   \n",
       "1993  1130.962963  2406.222222  3537.185185  2026.111111  701.185185   \n",
       "1994  1136.555556  2389.074074  3525.629630  2000.111111  727.851852   \n",
       "1995  1069.555556  2338.074074  3407.629630  1915.888889  678.888889   \n",
       "\n",
       "             BLK          TOV           PF          PTS  \n",
       "Year                                                     \n",
       "1991  430.518519  1315.370370  1900.148148  8717.407407  \n",
       "1992  452.444444  1275.185185  1823.222222  8635.370370  \n",
       "1993  428.074074  1304.814815  1898.851852  8632.333333  \n",
       "1994  428.851852  1312.000000  1817.592593  8323.592593  \n",
       "1995  423.333333  1307.518519  1924.481481  8315.481481  \n",
       "\n",
       "[5 rows x 24 columns]"
      ]
     },
     "execution_count": 9,
     "metadata": {},
     "output_type": "execute_result"
    }
   ],
   "source": [
    "season_total = seasons.groupby(by = \"Year\").mean()\n",
    "season_total.head()"
   ]
  },
  {
   "cell_type": "markdown",
   "id": "399ad546-b4d9-4c17-bfbf-b2d344108945",
   "metadata": {},
   "source": [
    "### **2.1 Data for Stephen Curry**\n",
    "\n",
    "So far we were able to scrape the data for all the teams for years 1991-2022. Now we want some data for the players. Using Selenium would be most optimal to scrape the over 300 NBA players, however, due to technical difficulties with finding chrome binary, we will be using a csv file from year 2015. The year 2015 was chosen because it was the first breakthrough year for Stephen Curry, winning his unanimous MVP title and his first NBA championship. Thus we will see just how he was able to achieve this using his sharp shooter skills."
   ]
  },
  {
   "cell_type": "code",
   "execution_count": 26,
   "id": "68c9ce28-bb39-4fd4-9da3-53dd5f49b681",
   "metadata": {},
   "outputs": [
    {
     "data": {
      "text/html": [
       "<div>\n",
       "<style scoped>\n",
       "    .dataframe tbody tr th:only-of-type {\n",
       "        vertical-align: middle;\n",
       "    }\n",
       "\n",
       "    .dataframe tbody tr th {\n",
       "        vertical-align: top;\n",
       "    }\n",
       "\n",
       "    .dataframe thead th {\n",
       "        text-align: right;\n",
       "    }\n",
       "</style>\n",
       "<table border=\"1\" class=\"dataframe\">\n",
       "  <thead>\n",
       "    <tr style=\"text-align: right;\">\n",
       "      <th></th>\n",
       "      <th>Player</th>\n",
       "      <th>Pos</th>\n",
       "      <th>Age</th>\n",
       "      <th>Tm</th>\n",
       "      <th>G</th>\n",
       "      <th>GS</th>\n",
       "      <th>MP</th>\n",
       "      <th>FG</th>\n",
       "      <th>FGA</th>\n",
       "      <th>FG%</th>\n",
       "      <th>...</th>\n",
       "      <th>ORB</th>\n",
       "      <th>DRB</th>\n",
       "      <th>TRB</th>\n",
       "      <th>AST</th>\n",
       "      <th>STL</th>\n",
       "      <th>BLK</th>\n",
       "      <th>TOV</th>\n",
       "      <th>PF</th>\n",
       "      <th>PTS</th>\n",
       "      <th>Player-additional</th>\n",
       "    </tr>\n",
       "    <tr>\n",
       "      <th>Rk</th>\n",
       "      <th></th>\n",
       "      <th></th>\n",
       "      <th></th>\n",
       "      <th></th>\n",
       "      <th></th>\n",
       "      <th></th>\n",
       "      <th></th>\n",
       "      <th></th>\n",
       "      <th></th>\n",
       "      <th></th>\n",
       "      <th></th>\n",
       "      <th></th>\n",
       "      <th></th>\n",
       "      <th></th>\n",
       "      <th></th>\n",
       "      <th></th>\n",
       "      <th></th>\n",
       "      <th></th>\n",
       "      <th></th>\n",
       "      <th></th>\n",
       "      <th></th>\n",
       "    </tr>\n",
       "  </thead>\n",
       "  <tbody>\n",
       "    <tr>\n",
       "      <th>1</th>\n",
       "      <td>Quincy Acy</td>\n",
       "      <td>PF</td>\n",
       "      <td>24</td>\n",
       "      <td>NYK</td>\n",
       "      <td>68</td>\n",
       "      <td>22</td>\n",
       "      <td>1287</td>\n",
       "      <td>152</td>\n",
       "      <td>331</td>\n",
       "      <td>0.459</td>\n",
       "      <td>...</td>\n",
       "      <td>79</td>\n",
       "      <td>222</td>\n",
       "      <td>301</td>\n",
       "      <td>68</td>\n",
       "      <td>27</td>\n",
       "      <td>22</td>\n",
       "      <td>60</td>\n",
       "      <td>147</td>\n",
       "      <td>398</td>\n",
       "      <td>acyqu01</td>\n",
       "    </tr>\n",
       "    <tr>\n",
       "      <th>2</th>\n",
       "      <td>Jordan Adams</td>\n",
       "      <td>SG</td>\n",
       "      <td>20</td>\n",
       "      <td>MEM</td>\n",
       "      <td>30</td>\n",
       "      <td>0</td>\n",
       "      <td>248</td>\n",
       "      <td>35</td>\n",
       "      <td>86</td>\n",
       "      <td>0.407</td>\n",
       "      <td>...</td>\n",
       "      <td>9</td>\n",
       "      <td>19</td>\n",
       "      <td>28</td>\n",
       "      <td>16</td>\n",
       "      <td>16</td>\n",
       "      <td>7</td>\n",
       "      <td>14</td>\n",
       "      <td>24</td>\n",
       "      <td>94</td>\n",
       "      <td>adamsjo01</td>\n",
       "    </tr>\n",
       "    <tr>\n",
       "      <th>3</th>\n",
       "      <td>Steven Adams</td>\n",
       "      <td>C</td>\n",
       "      <td>21</td>\n",
       "      <td>OKC</td>\n",
       "      <td>70</td>\n",
       "      <td>67</td>\n",
       "      <td>1771</td>\n",
       "      <td>217</td>\n",
       "      <td>399</td>\n",
       "      <td>0.544</td>\n",
       "      <td>...</td>\n",
       "      <td>199</td>\n",
       "      <td>324</td>\n",
       "      <td>523</td>\n",
       "      <td>66</td>\n",
       "      <td>38</td>\n",
       "      <td>86</td>\n",
       "      <td>99</td>\n",
       "      <td>222</td>\n",
       "      <td>537</td>\n",
       "      <td>adamsst01</td>\n",
       "    </tr>\n",
       "    <tr>\n",
       "      <th>4</th>\n",
       "      <td>Jeff Adrien</td>\n",
       "      <td>PF</td>\n",
       "      <td>28</td>\n",
       "      <td>MIN</td>\n",
       "      <td>17</td>\n",
       "      <td>0</td>\n",
       "      <td>215</td>\n",
       "      <td>19</td>\n",
       "      <td>44</td>\n",
       "      <td>0.432</td>\n",
       "      <td>...</td>\n",
       "      <td>23</td>\n",
       "      <td>54</td>\n",
       "      <td>77</td>\n",
       "      <td>15</td>\n",
       "      <td>4</td>\n",
       "      <td>9</td>\n",
       "      <td>9</td>\n",
       "      <td>30</td>\n",
       "      <td>60</td>\n",
       "      <td>adrieje01</td>\n",
       "    </tr>\n",
       "    <tr>\n",
       "      <th>5</th>\n",
       "      <td>Arron Afflalo</td>\n",
       "      <td>SG</td>\n",
       "      <td>29</td>\n",
       "      <td>TOT</td>\n",
       "      <td>78</td>\n",
       "      <td>72</td>\n",
       "      <td>2502</td>\n",
       "      <td>375</td>\n",
       "      <td>884</td>\n",
       "      <td>0.424</td>\n",
       "      <td>...</td>\n",
       "      <td>27</td>\n",
       "      <td>220</td>\n",
       "      <td>247</td>\n",
       "      <td>129</td>\n",
       "      <td>41</td>\n",
       "      <td>7</td>\n",
       "      <td>116</td>\n",
       "      <td>167</td>\n",
       "      <td>1035</td>\n",
       "      <td>afflaar01</td>\n",
       "    </tr>\n",
       "  </tbody>\n",
       "</table>\n",
       "<p>5 rows × 30 columns</p>\n",
       "</div>"
      ],
      "text/plain": [
       "           Player Pos  Age   Tm   G  GS    MP   FG  FGA    FG%  ...  ORB  DRB  \\\n",
       "Rk                                                              ...             \n",
       "1      Quincy Acy  PF   24  NYK  68  22  1287  152  331  0.459  ...   79  222   \n",
       "2    Jordan Adams  SG   20  MEM  30   0   248   35   86  0.407  ...    9   19   \n",
       "3    Steven Adams   C   21  OKC  70  67  1771  217  399  0.544  ...  199  324   \n",
       "4     Jeff Adrien  PF   28  MIN  17   0   215   19   44  0.432  ...   23   54   \n",
       "5   Arron Afflalo  SG   29  TOT  78  72  2502  375  884  0.424  ...   27  220   \n",
       "\n",
       "    TRB  AST  STL  BLK  TOV   PF   PTS  Player-additional  \n",
       "Rk                                                         \n",
       "1   301   68   27   22   60  147   398            acyqu01  \n",
       "2    28   16   16    7   14   24    94          adamsjo01  \n",
       "3   523   66   38   86   99  222   537          adamsst01  \n",
       "4    77   15    4    9    9   30    60          adrieje01  \n",
       "5   247  129   41    7  116  167  1035          afflaar01  \n",
       "\n",
       "[5 rows x 30 columns]"
      ]
     },
     "execution_count": 26,
     "metadata": {},
     "output_type": "execute_result"
    }
   ],
   "source": [
    "url = 'https://raw.githubusercontent.com/jsok59/CMSC320/main/2015players.csv'\n",
    "season2015 = pd.read_csv(url,index_col=0)\n",
    "season2015.head()"
   ]
  },
  {
   "cell_type": "markdown",
   "id": "c942515f-775d-49a0-abe3-0b8b0a9919b5",
   "metadata": {},
   "source": [
    "First convert the csv format from the website into a csv file by using Notebook and saving as .csv. Then use github to upload the csv file so that the url of the raw data can be used to read the csv through pandas library."
   ]
  },
  {
   "cell_type": "markdown",
   "id": "1fad6839-2466-4d76-b153-e3264528255c",
   "metadata": {},
   "source": [
    "### **2.2 Data for 2015 Standings**\n",
    "\n",
    "Now that we have the stats of all the players in 2015, we would like to see what the standings were in that regular season to compare the stats of the good teams vs the bad teams and see if there are any correlation between the 3 point statistics and their win rate."
   ]
  },
  {
   "cell_type": "code",
   "execution_count": 49,
   "id": "19f4f470-2e79-4823-8e99-430e31fe2cd0",
   "metadata": {},
   "outputs": [
    {
     "data": {
      "text/html": [
       "<div>\n",
       "<style scoped>\n",
       "    .dataframe tbody tr th:only-of-type {\n",
       "        vertical-align: middle;\n",
       "    }\n",
       "\n",
       "    .dataframe tbody tr th {\n",
       "        vertical-align: top;\n",
       "    }\n",
       "\n",
       "    .dataframe thead th {\n",
       "        text-align: right;\n",
       "    }\n",
       "</style>\n",
       "<table border=\"1\" class=\"dataframe\">\n",
       "  <thead>\n",
       "    <tr style=\"text-align: right;\">\n",
       "      <th></th>\n",
       "      <th>Team</th>\n",
       "      <th>Overall</th>\n",
       "      <th>Home</th>\n",
       "      <th>Road</th>\n",
       "      <th>E</th>\n",
       "      <th>W</th>\n",
       "      <th>A</th>\n",
       "      <th>C</th>\n",
       "      <th>SE</th>\n",
       "      <th>NW</th>\n",
       "      <th>...</th>\n",
       "      <th>Post</th>\n",
       "      <th>≤3</th>\n",
       "      <th>≥10</th>\n",
       "      <th>Oct</th>\n",
       "      <th>Nov</th>\n",
       "      <th>Dec</th>\n",
       "      <th>Jan</th>\n",
       "      <th>Feb</th>\n",
       "      <th>Mar</th>\n",
       "      <th>Apr</th>\n",
       "    </tr>\n",
       "    <tr>\n",
       "      <th>Rk</th>\n",
       "      <th></th>\n",
       "      <th></th>\n",
       "      <th></th>\n",
       "      <th></th>\n",
       "      <th></th>\n",
       "      <th></th>\n",
       "      <th></th>\n",
       "      <th></th>\n",
       "      <th></th>\n",
       "      <th></th>\n",
       "      <th></th>\n",
       "      <th></th>\n",
       "      <th></th>\n",
       "      <th></th>\n",
       "      <th></th>\n",
       "      <th></th>\n",
       "      <th></th>\n",
       "      <th></th>\n",
       "      <th></th>\n",
       "      <th></th>\n",
       "      <th></th>\n",
       "    </tr>\n",
       "  </thead>\n",
       "  <tbody>\n",
       "    <tr>\n",
       "      <th>1</th>\n",
       "      <td>Golden State Warriors</td>\n",
       "      <td>67-15</td>\n",
       "      <td>39-2</td>\n",
       "      <td>28-13</td>\n",
       "      <td>25-5</td>\n",
       "      <td>42-10</td>\n",
       "      <td>9-1</td>\n",
       "      <td>7-3</td>\n",
       "      <td>9-1</td>\n",
       "      <td>15-3</td>\n",
       "      <td>...</td>\n",
       "      <td>25-6</td>\n",
       "      <td>5-3</td>\n",
       "      <td>45-9</td>\n",
       "      <td>1-0</td>\n",
       "      <td>13-2</td>\n",
       "      <td>11-3</td>\n",
       "      <td>12-3</td>\n",
       "      <td>8-3</td>\n",
       "      <td>16-2</td>\n",
       "      <td>6-2</td>\n",
       "    </tr>\n",
       "    <tr>\n",
       "      <th>2</th>\n",
       "      <td>Atlanta Hawks</td>\n",
       "      <td>60-22</td>\n",
       "      <td>35-6</td>\n",
       "      <td>25-16</td>\n",
       "      <td>38-14</td>\n",
       "      <td>22-8</td>\n",
       "      <td>12-6</td>\n",
       "      <td>14-4</td>\n",
       "      <td>12-4</td>\n",
       "      <td>8-2</td>\n",
       "      <td>...</td>\n",
       "      <td>17-11</td>\n",
       "      <td>6-4</td>\n",
       "      <td>30-10</td>\n",
       "      <td>0-1</td>\n",
       "      <td>9-5</td>\n",
       "      <td>14-2</td>\n",
       "      <td>17-0</td>\n",
       "      <td>7-4</td>\n",
       "      <td>9-7</td>\n",
       "      <td>4-3</td>\n",
       "    </tr>\n",
       "    <tr>\n",
       "      <th>3</th>\n",
       "      <td>Houston Rockets</td>\n",
       "      <td>56-26</td>\n",
       "      <td>30-11</td>\n",
       "      <td>26-15</td>\n",
       "      <td>23-7</td>\n",
       "      <td>33-19</td>\n",
       "      <td>9-1</td>\n",
       "      <td>8-2</td>\n",
       "      <td>6-4</td>\n",
       "      <td>15-3</td>\n",
       "      <td>...</td>\n",
       "      <td>20-9</td>\n",
       "      <td>8-4</td>\n",
       "      <td>31-14</td>\n",
       "      <td>2-0</td>\n",
       "      <td>11-4</td>\n",
       "      <td>9-5</td>\n",
       "      <td>11-6</td>\n",
       "      <td>7-3</td>\n",
       "      <td>10-6</td>\n",
       "      <td>6-2</td>\n",
       "    </tr>\n",
       "    <tr>\n",
       "      <th>4</th>\n",
       "      <td>Los Angeles Clippers</td>\n",
       "      <td>56-26</td>\n",
       "      <td>30-11</td>\n",
       "      <td>26-15</td>\n",
       "      <td>19-11</td>\n",
       "      <td>37-15</td>\n",
       "      <td>7-3</td>\n",
       "      <td>6-4</td>\n",
       "      <td>6-4</td>\n",
       "      <td>15-3</td>\n",
       "      <td>...</td>\n",
       "      <td>21-7</td>\n",
       "      <td>3-5</td>\n",
       "      <td>33-9</td>\n",
       "      <td>2-0</td>\n",
       "      <td>9-5</td>\n",
       "      <td>11-6</td>\n",
       "      <td>11-4</td>\n",
       "      <td>5-6</td>\n",
       "      <td>11-5</td>\n",
       "      <td>7-0</td>\n",
       "    </tr>\n",
       "    <tr>\n",
       "      <th>5</th>\n",
       "      <td>Memphis Grizzlies</td>\n",
       "      <td>55-27</td>\n",
       "      <td>31-10</td>\n",
       "      <td>24-17</td>\n",
       "      <td>20-10</td>\n",
       "      <td>35-17</td>\n",
       "      <td>8-2</td>\n",
       "      <td>5-5</td>\n",
       "      <td>7-3</td>\n",
       "      <td>13-5</td>\n",
       "      <td>...</td>\n",
       "      <td>16-13</td>\n",
       "      <td>9-3</td>\n",
       "      <td>26-13</td>\n",
       "      <td>2-0</td>\n",
       "      <td>13-2</td>\n",
       "      <td>8-6</td>\n",
       "      <td>12-4</td>\n",
       "      <td>7-4</td>\n",
       "      <td>9-8</td>\n",
       "      <td>4-3</td>\n",
       "    </tr>\n",
       "  </tbody>\n",
       "</table>\n",
       "<p>5 rows × 23 columns</p>\n",
       "</div>"
      ],
      "text/plain": [
       "                     Team Overall   Home   Road      E      W     A     C  \\\n",
       "Rk                                                                          \n",
       "1   Golden State Warriors   67-15   39-2  28-13   25-5  42-10   9-1   7-3   \n",
       "2           Atlanta Hawks   60-22   35-6  25-16  38-14   22-8  12-6  14-4   \n",
       "3         Houston Rockets   56-26  30-11  26-15   23-7  33-19   9-1   8-2   \n",
       "4    Los Angeles Clippers   56-26  30-11  26-15  19-11  37-15   7-3   6-4   \n",
       "5       Memphis Grizzlies   55-27  31-10  24-17  20-10  35-17   8-2   5-5   \n",
       "\n",
       "      SE    NW  ...   Post   ≤3    ≥10  Oct   Nov   Dec   Jan  Feb   Mar  Apr  \n",
       "Rk              ...                                                            \n",
       "1    9-1  15-3  ...   25-6  5-3   45-9  1-0  13-2  11-3  12-3  8-3  16-2  6-2  \n",
       "2   12-4   8-2  ...  17-11  6-4  30-10  0-1   9-5  14-2  17-0  7-4   9-7  4-3  \n",
       "3    6-4  15-3  ...   20-9  8-4  31-14  2-0  11-4   9-5  11-6  7-3  10-6  6-2  \n",
       "4    6-4  15-3  ...   21-7  3-5   33-9  2-0   9-5  11-6  11-4  5-6  11-5  7-0  \n",
       "5    7-3  13-5  ...  16-13  9-3  26-13  2-0  13-2   8-6  12-4  7-4   9-8  4-3  \n",
       "\n",
       "[5 rows x 23 columns]"
      ]
     },
     "execution_count": 49,
     "metadata": {},
     "output_type": "execute_result"
    }
   ],
   "source": [
    "url = 'https://raw.githubusercontent.com/jsok59/CMSC320/main/2015standing.csv'\n",
    "standing2015 = pd.read_csv(url,index_col=0)\n",
    "standing2015.head()"
   ]
  },
  {
   "cell_type": "markdown",
   "id": "05eb330a-cb17-4d6b-a62c-c3b5f9d6cd19",
   "metadata": {},
   "source": [
    "The same method was used as getting the players data."
   ]
  },
  {
   "cell_type": "code",
   "execution_count": 48,
   "id": "10a00f6f-d4cf-43ac-a731-12061310b47d",
   "metadata": {},
   "outputs": [
    {
     "name": "stdout",
     "output_type": "stream",
     "text": [
      "['Golden State Warriors', 'Atlanta Hawks', 'Houston Rockets', 'Los Angeles Clippers', 'Memphis Grizzlies']\n",
      "['Orlando Magic', 'Los Angeles Lakers', 'Philadelphia 76ers', 'New York Knicks', 'Minnesota Timberwolves']\n"
     ]
    }
   ],
   "source": [
    "top_five = []\n",
    "for i in range(1,6):\n",
    "    top_five.append(standing2015['Team'][i])\n",
    "print(top_five)\n",
    "\n",
    "bottom_five = []\n",
    "for i in range(26,31):\n",
    "    bottom_five.append(standing2015['Team'][i])\n",
    "print(bottom_five)\n"
   ]
  },
  {
   "cell_type": "markdown",
   "id": "1dc23895-c25b-49aa-9c62-4c0f49beedf6",
   "metadata": {},
   "source": [
    "We used a for loop to get the bottom and top 5 of the 2015 regular season. We will use this later in our data exploration to compare the difference between the top 5 teams vs bottom 5 teams in terms of their 3-point statistics."
   ]
  },
  {
   "cell_type": "markdown",
   "id": "bcee8c98-67aa-4370-a828-968e8c281b92",
   "metadata": {},
   "source": [
    "### **3. Data Exploration**\n",
    "\n",
    "After we have obtained all our datas and stored them in dataframes, let's see if we can explore some of this data.\n",
    "First let's see the general trend of the statistics related to the 3-point shot throughout the years 1991-2022.\n",
    "We will focus mainly on these 3 stats:\n",
    "* 3P: This stat is how many 3 -point shot was made\n",
    "* 3PA: This stat is how many 3-point shot was attempted\n",
    "* 3P%: This stat is 3P/3PA, thus showing the percentage of 3-point shots made"
   ]
  },
  {
   "cell_type": "code",
   "execution_count": 37,
   "id": "21bbe48f-cf08-4c24-bc4f-60cff785fb3a",
   "metadata": {},
   "outputs": [
    {
     "data": {
      "text/plain": [
       "<function matplotlib.pyplot.show(close=None, block=None)>"
      ]
     },
     "execution_count": 37,
     "metadata": {},
     "output_type": "execute_result"
    },
    {
     "data": {
      "image/png": "[encoded data removed]",
      "text/plain": [
       "<Figure size 432x288 with 1 Axes>"
      ]
     },
     "metadata": {
      "needs_background": "light"
     },
     "output_type": "display_data"
    }
   ],
   "source": [
    "import matplotlib.pyplot as plt\n",
    "ax = plt.axes()\n",
    "ax.scatter(years, season_total[\"3PA\"])\n",
    "ax.plot([2009,2009],[0,3000], color = \"red\", label =\"Stephen Curry Draft Year\")\n",
    "plt.xlabel(\"Years\")\n",
    "plt.ylabel(\"Average 3PA across all teams\")\n",
    "plt.title(\"Average 3PA vs Years\")\n",
    "plt.legend()\n",
    "plt.show"
   ]
  },
  {
   "cell_type": "markdown",
   "id": "af6b6c14-bce3-4659-8aab-76769ccb2abe",
   "metadata": {},
   "source": [
    "To see a general trend, a scatter plot would be best. We ploted all the 3PA averages across all teams through the years 1991-2022. In order to see the effect of Stephen Curry, we added the red line on the 2009 season Stephen Curry was drafted to the Golden State Warriors. From a glance we can see that even before Stephen Curry was drafted there was a slightly increasing trend of the 3PA. This means that more players were attempting to shoot 3-point shot across all 30 teams. We can also see that after Stephen Curry joined the league, there is a steeper increase in the 3-point attempts."
   ]
  },
  {
   "cell_type": "code",
   "execution_count": 51,
   "id": "d29c8286-ab34-43c6-b42c-ec92a9884f58",
   "metadata": {},
   "outputs": [
    {
     "data": {
      "text/plain": [
       "<function matplotlib.pyplot.show(close=None, block=None)>"
      ]
     },
     "execution_count": 51,
     "metadata": {},
     "output_type": "execute_result"
    },
    {
     "data": {
      "image/png": "[encoded data removed]",
      "text/plain": [
       "<Figure size 432x288 with 1 Axes>"
      ]
     },
     "metadata": {
      "needs_background": "light"
     },
     "output_type": "display_data"
    }
   ],
   "source": [
    "ax = plt.axes()\n",
    "ax.scatter(years, season_total[\"3P%\"])\n",
    "ax.plot([2009,2009],[0.3,0.37], color= \"red\", label = \"Stephen Curry Draft Year\")\n",
    "plt.xlabel(\"Years\")\n",
    "plt.ylabel(\"Average 3P% across all teams\")\n",
    "plt.title(\"Average 3P% vs Years\")\n",
    "plt.legend()\n",
    "plt.show"
   ]
  },
  {
   "cell_type": "markdown",
   "id": "3f2bd84a-97ad-445e-bad4-237719822b54",
   "metadata": {},
   "source": [
    "Let's track another stat, the 3P%, to see if the efficiency also increased in respect to years. This can also be understood as, did the skills of the players increase in terms of shooting 3-pointers. Interestingly, the correlation between the 3P% vs Year and even the effect Steph Curry had on the 3P% is not so clear. However, we can definitely see that compared to the early 90s, the 3P% efficiency has increased drastically, especially on top of the fact that much more 3-point attempts are being made in the modern era."
   ]
  },
  {
   "cell_type": "markdown",
   "id": "dfd711ec-5995-4b14-96e2-413aff5bf4af",
   "metadata": {},
   "source": [
    "### **3.1 Stephen Curry vs Others**\n",
    "\n",
    "Basketball has always been evolving throughout the years. Starting with Kareem's 'skyhook' shot to the now Stephen Curry's limitless range of 3-point shot. What makes these shots so iconic and transformative? Well, one thing that everyone strives for is winning in basketball and a common thing that both Kareem and Stephen has is that they are two of the few legends with 4 championships or more. It only makes sense that players would try to mimic these skills that lead the two to so many championships. A good example is Magic Johnson and Kobe Bryant. Magic copied the 'sky hook' shot from Kareem and Kobe copied the 'fadeaway' from Michael Jordan. It only makes sense that players are now attempting more 3-point shots seeing how dominant Stephen Curry is."
   ]
  },
  {
   "cell_type": "markdown",
   "id": "18d5226e-6baa-4b0b-b5e4-11aae9b7f255",
   "metadata": {},
   "source": [
    "## How great of a shooter is Stephen Curry?\n",
    "\n",
    "Let's try to use our data on the season 2015 to see just how good Stephen Curry was. First lets get the Stephen Curry's stat from the 2015 players data frame."
   ]
  },
  {
   "cell_type": "code",
   "execution_count": 53,
   "id": "73b2c2cb-b6f4-4e70-8a55-174ae2633b30",
   "metadata": {
    "tags": []
   },
   "outputs": [
    {
     "data": {
      "text/html": [
       "<div>\n",
       "<style scoped>\n",
       "    .dataframe tbody tr th:only-of-type {\n",
       "        vertical-align: middle;\n",
       "    }\n",
       "\n",
       "    .dataframe tbody tr th {\n",
       "        vertical-align: top;\n",
       "    }\n",
       "\n",
       "    .dataframe thead th {\n",
       "        text-align: right;\n",
       "    }\n",
       "</style>\n",
       "<table border=\"1\" class=\"dataframe\">\n",
       "  <thead>\n",
       "    <tr style=\"text-align: right;\">\n",
       "      <th></th>\n",
       "      <th>Player</th>\n",
       "      <th>Pos</th>\n",
       "      <th>Age</th>\n",
       "      <th>Tm</th>\n",
       "      <th>G</th>\n",
       "      <th>GS</th>\n",
       "      <th>MP</th>\n",
       "      <th>FG</th>\n",
       "      <th>FGA</th>\n",
       "      <th>FG%</th>\n",
       "      <th>...</th>\n",
       "      <th>ORB</th>\n",
       "      <th>DRB</th>\n",
       "      <th>TRB</th>\n",
       "      <th>AST</th>\n",
       "      <th>STL</th>\n",
       "      <th>BLK</th>\n",
       "      <th>TOV</th>\n",
       "      <th>PF</th>\n",
       "      <th>PTS</th>\n",
       "      <th>Player-additional</th>\n",
       "    </tr>\n",
       "    <tr>\n",
       "      <th>Rk</th>\n",
       "      <th></th>\n",
       "      <th></th>\n",
       "      <th></th>\n",
       "      <th></th>\n",
       "      <th></th>\n",
       "      <th></th>\n",
       "      <th></th>\n",
       "      <th></th>\n",
       "      <th></th>\n",
       "      <th></th>\n",
       "      <th></th>\n",
       "      <th></th>\n",
       "      <th></th>\n",
       "      <th></th>\n",
       "      <th></th>\n",
       "      <th></th>\n",
       "      <th></th>\n",
       "      <th></th>\n",
       "      <th></th>\n",
       "      <th></th>\n",
       "      <th></th>\n",
       "    </tr>\n",
       "  </thead>\n",
       "  <tbody>\n",
       "    <tr>\n",
       "      <th>112</th>\n",
       "      <td>Stephen Curry</td>\n",
       "      <td>PG</td>\n",
       "      <td>26</td>\n",
       "      <td>GSW</td>\n",
       "      <td>80</td>\n",
       "      <td>80</td>\n",
       "      <td>2613</td>\n",
       "      <td>653</td>\n",
       "      <td>1341</td>\n",
       "      <td>0.487</td>\n",
       "      <td>...</td>\n",
       "      <td>56</td>\n",
       "      <td>285</td>\n",
       "      <td>341</td>\n",
       "      <td>619</td>\n",
       "      <td>163</td>\n",
       "      <td>16</td>\n",
       "      <td>249</td>\n",
       "      <td>158</td>\n",
       "      <td>1900</td>\n",
       "      <td>curryst01</td>\n",
       "    </tr>\n",
       "  </tbody>\n",
       "</table>\n",
       "<p>1 rows × 30 columns</p>\n",
       "</div>"
      ],
      "text/plain": [
       "            Player Pos  Age   Tm   G  GS    MP   FG   FGA    FG%  ...  ORB  \\\n",
       "Rk                                                                ...        \n",
       "112  Stephen Curry  PG   26  GSW  80  80  2613  653  1341  0.487  ...   56   \n",
       "\n",
       "     DRB  TRB  AST  STL  BLK  TOV   PF   PTS  Player-additional  \n",
       "Rk                                                               \n",
       "112  285  341  619  163   16  249  158  1900          curryst01  \n",
       "\n",
       "[1 rows x 30 columns]"
      ]
     },
     "execution_count": 53,
     "metadata": {},
     "output_type": "execute_result"
    }
   ],
   "source": [
    "sc_30 = season2015.loc[season2015['Player'] == \"Stephen Curry\"]\n",
    "sc_30"
   ]
  },
  {
   "cell_type": "code",
   "execution_count": 55,
   "id": "6ccd15e1-4fd6-460c-8a10-d88e664034c3",
   "metadata": {},
   "outputs": [
    {
     "name": "stdout",
     "output_type": "stream",
     "text": [
      "651\n"
     ]
    },
    {
     "data": {
      "text/html": [
       "<div>\n",
       "<style scoped>\n",
       "    .dataframe tbody tr th:only-of-type {\n",
       "        vertical-align: middle;\n",
       "    }\n",
       "\n",
       "    .dataframe tbody tr th {\n",
       "        vertical-align: top;\n",
       "    }\n",
       "\n",
       "    .dataframe thead th {\n",
       "        text-align: right;\n",
       "    }\n",
       "</style>\n",
       "<table border=\"1\" class=\"dataframe\">\n",
       "  <thead>\n",
       "    <tr style=\"text-align: right;\">\n",
       "      <th></th>\n",
       "      <th>Pos</th>\n",
       "      <th>Age</th>\n",
       "      <th>Tm</th>\n",
       "      <th>G</th>\n",
       "      <th>GS</th>\n",
       "      <th>MP</th>\n",
       "      <th>FG</th>\n",
       "      <th>FGA</th>\n",
       "      <th>FG%</th>\n",
       "      <th>3P</th>\n",
       "      <th>...</th>\n",
       "      <th>ORB</th>\n",
       "      <th>DRB</th>\n",
       "      <th>TRB</th>\n",
       "      <th>AST</th>\n",
       "      <th>STL</th>\n",
       "      <th>BLK</th>\n",
       "      <th>TOV</th>\n",
       "      <th>PF</th>\n",
       "      <th>PTS</th>\n",
       "      <th>Player-additional</th>\n",
       "    </tr>\n",
       "    <tr>\n",
       "      <th>Player</th>\n",
       "      <th></th>\n",
       "      <th></th>\n",
       "      <th></th>\n",
       "      <th></th>\n",
       "      <th></th>\n",
       "      <th></th>\n",
       "      <th></th>\n",
       "      <th></th>\n",
       "      <th></th>\n",
       "      <th></th>\n",
       "      <th></th>\n",
       "      <th></th>\n",
       "      <th></th>\n",
       "      <th></th>\n",
       "      <th></th>\n",
       "      <th></th>\n",
       "      <th></th>\n",
       "      <th></th>\n",
       "      <th></th>\n",
       "      <th></th>\n",
       "      <th></th>\n",
       "    </tr>\n",
       "  </thead>\n",
       "  <tbody>\n",
       "    <tr>\n",
       "      <th>Quincy Acy</th>\n",
       "      <td>PF</td>\n",
       "      <td>24</td>\n",
       "      <td>NYK</td>\n",
       "      <td>68</td>\n",
       "      <td>22</td>\n",
       "      <td>1287</td>\n",
       "      <td>152</td>\n",
       "      <td>331</td>\n",
       "      <td>0.459</td>\n",
       "      <td>18</td>\n",
       "      <td>...</td>\n",
       "      <td>79</td>\n",
       "      <td>222</td>\n",
       "      <td>301</td>\n",
       "      <td>68</td>\n",
       "      <td>27</td>\n",
       "      <td>22</td>\n",
       "      <td>60</td>\n",
       "      <td>147</td>\n",
       "      <td>398</td>\n",
       "      <td>acyqu01</td>\n",
       "    </tr>\n",
       "    <tr>\n",
       "      <th>Jordan Adams</th>\n",
       "      <td>SG</td>\n",
       "      <td>20</td>\n",
       "      <td>MEM</td>\n",
       "      <td>30</td>\n",
       "      <td>0</td>\n",
       "      <td>248</td>\n",
       "      <td>35</td>\n",
       "      <td>86</td>\n",
       "      <td>0.407</td>\n",
       "      <td>10</td>\n",
       "      <td>...</td>\n",
       "      <td>9</td>\n",
       "      <td>19</td>\n",
       "      <td>28</td>\n",
       "      <td>16</td>\n",
       "      <td>16</td>\n",
       "      <td>7</td>\n",
       "      <td>14</td>\n",
       "      <td>24</td>\n",
       "      <td>94</td>\n",
       "      <td>adamsjo01</td>\n",
       "    </tr>\n",
       "    <tr>\n",
       "      <th>Steven Adams</th>\n",
       "      <td>C</td>\n",
       "      <td>21</td>\n",
       "      <td>OKC</td>\n",
       "      <td>70</td>\n",
       "      <td>67</td>\n",
       "      <td>1771</td>\n",
       "      <td>217</td>\n",
       "      <td>399</td>\n",
       "      <td>0.544</td>\n",
       "      <td>0</td>\n",
       "      <td>...</td>\n",
       "      <td>199</td>\n",
       "      <td>324</td>\n",
       "      <td>523</td>\n",
       "      <td>66</td>\n",
       "      <td>38</td>\n",
       "      <td>86</td>\n",
       "      <td>99</td>\n",
       "      <td>222</td>\n",
       "      <td>537</td>\n",
       "      <td>adamsst01</td>\n",
       "    </tr>\n",
       "    <tr>\n",
       "      <th>Jeff Adrien</th>\n",
       "      <td>PF</td>\n",
       "      <td>28</td>\n",
       "      <td>MIN</td>\n",
       "      <td>17</td>\n",
       "      <td>0</td>\n",
       "      <td>215</td>\n",
       "      <td>19</td>\n",
       "      <td>44</td>\n",
       "      <td>0.432</td>\n",
       "      <td>0</td>\n",
       "      <td>...</td>\n",
       "      <td>23</td>\n",
       "      <td>54</td>\n",
       "      <td>77</td>\n",
       "      <td>15</td>\n",
       "      <td>4</td>\n",
       "      <td>9</td>\n",
       "      <td>9</td>\n",
       "      <td>30</td>\n",
       "      <td>60</td>\n",
       "      <td>adrieje01</td>\n",
       "    </tr>\n",
       "    <tr>\n",
       "      <th>Arron Afflalo</th>\n",
       "      <td>SG</td>\n",
       "      <td>29</td>\n",
       "      <td>TOT</td>\n",
       "      <td>78</td>\n",
       "      <td>72</td>\n",
       "      <td>2502</td>\n",
       "      <td>375</td>\n",
       "      <td>884</td>\n",
       "      <td>0.424</td>\n",
       "      <td>118</td>\n",
       "      <td>...</td>\n",
       "      <td>27</td>\n",
       "      <td>220</td>\n",
       "      <td>247</td>\n",
       "      <td>129</td>\n",
       "      <td>41</td>\n",
       "      <td>7</td>\n",
       "      <td>116</td>\n",
       "      <td>167</td>\n",
       "      <td>1035</td>\n",
       "      <td>afflaar01</td>\n",
       "    </tr>\n",
       "  </tbody>\n",
       "</table>\n",
       "<p>5 rows × 29 columns</p>\n",
       "</div>"
      ],
      "text/plain": [
       "              Pos  Age   Tm   G  GS    MP   FG  FGA    FG%   3P  ...  ORB  \\\n",
       "Player                                                           ...        \n",
       "Quincy Acy     PF   24  NYK  68  22  1287  152  331  0.459   18  ...   79   \n",
       "Jordan Adams   SG   20  MEM  30   0   248   35   86  0.407   10  ...    9   \n",
       "Steven Adams    C   21  OKC  70  67  1771  217  399  0.544    0  ...  199   \n",
       "Jeff Adrien    PF   28  MIN  17   0   215   19   44  0.432    0  ...   23   \n",
       "Arron Afflalo  SG   29  TOT  78  72  2502  375  884  0.424  118  ...   27   \n",
       "\n",
       "               DRB  TRB  AST  STL  BLK  TOV   PF   PTS  Player-additional  \n",
       "Player                                                                     \n",
       "Quincy Acy     222  301   68   27   22   60  147   398            acyqu01  \n",
       "Jordan Adams    19   28   16   16    7   14   24    94          adamsjo01  \n",
       "Steven Adams   324  523   66   38   86   99  222   537          adamsst01  \n",
       "Jeff Adrien     54   77   15    4    9    9   30    60          adrieje01  \n",
       "Arron Afflalo  220  247  129   41    7  116  167  1035          afflaar01  \n",
       "\n",
       "[5 rows x 29 columns]"
      ]
     },
     "execution_count": 55,
     "metadata": {},
     "output_type": "execute_result"
    }
   ],
   "source": [
    "season2015_name = season2015.set_index(\"Player\")\n",
    "print(len(season2015_name))\n",
    "season2015_name.head()"
   ]
  },
  {
   "cell_type": "markdown",
   "id": "7c492849-d90d-4a34-aacd-8619ccc63b8c",
   "metadata": {},
   "source": [
    "Now we have Stephen Curry's stat, let's delete his row from the players stat table by indexing through the name and deleting his row by using his name"
   ]
  },
  {
   "cell_type": "code",
   "execution_count": 57,
   "id": "0528d483-aba3-4f27-ac3a-91693de0c617",
   "metadata": {},
   "outputs": [
    {
     "name": "stdout",
     "output_type": "stream",
     "text": [
      "650\n"
     ]
    }
   ],
   "source": [
    "season2015_name = season2015_name.drop(\"Stephen Curry\")\n",
    "print(len(season2015_name))"
   ]
  },
  {
   "cell_type": "code",
   "execution_count": 62,
   "id": "1f498755-679e-4001-b6ad-ce55e66d52fe",
   "metadata": {},
   "outputs": [
    {
     "data": {
      "text/plain": [
       "<function matplotlib.pyplot.show(close=None, block=None)>"
      ]
     },
     "execution_count": 62,
     "metadata": {},
     "output_type": "execute_result"
    },
    {
     "data": {
      "image/png": "[encoded data removed]",
      "text/plain": [
       "<Figure size 432x288 with 1 Axes>"
      ]
     },
     "metadata": {
      "needs_background": "light"
     },
     "output_type": "display_data"
    }
   ],
   "source": [
    "ax = plt.axes()\n",
    "ax.bar(sc_30['Player'], sc_30['3PA'], color =\"red\", width = 0.4)\n",
    "ax.bar(\"All other NBA players\", season2015['3PA'].mean(), color =\"blue\", width = 0.4)\n",
    "plt.xlabel(\"Players\")\n",
    "plt.ylabel(\"3PA\")\n",
    "plt.title(\"3PA (Season 2015): Stephen Curry vs Others\")\n",
    "plt.show"
   ]
  },
  {
   "cell_type": "markdown",
   "id": "ee21c38d-e4e3-41c5-ba7e-6a64722f66d7",
   "metadata": {},
   "source": [
    "In this graph Stephen Curry attempted more than 500 times more than the average nba player."
   ]
  },
  {
   "cell_type": "code",
   "execution_count": 63,
   "id": "3ea74c2d-25ea-449a-ab48-7d7ca0a6999d",
   "metadata": {},
   "outputs": [
    {
     "data": {
      "text/plain": [
       "<function matplotlib.pyplot.show(close=None, block=None)>"
      ]
     },
     "execution_count": 63,
     "metadata": {},
     "output_type": "execute_result"
    },
    {
     "data": {
      "image/png": "[encoded data removed]",
      "text/plain": [
       "<Figure size 432x288 with 1 Axes>"
      ]
     },
     "metadata": {
      "needs_background": "light"
     },
     "output_type": "display_data"
    }
   ],
   "source": [
    "ax = plt.axes()\n",
    "ax.bar(sc_30['Player'], sc_30['3P%'], color =\"red\", width = 0.4)\n",
    "ax.bar(\"All other NBA players\", season2015['3P%'].mean(), color =\"blue\", width = 0.4)\n",
    "plt.xlabel(\"Players\")\n",
    "plt.ylabel(\"3P%\")\n",
    "plt.title(\"3P% (Season 2015): Stephen Curry vs Others\")\n",
    "plt.show"
   ]
  },
  {
   "cell_type": "markdown",
   "id": "53cd5d58-f82e-4c52-affa-057bd2bedb23",
   "metadata": {},
   "source": [
    "In this graph Stephen Curry is over 10% high in his 3P% than the average player"
   ]
  },
  {
   "cell_type": "markdown",
   "id": "f69ef7d4-96c6-45bc-b97c-88cea3ac452b",
   "metadata": {},
   "source": [
    "### Unfair Comparison: Because our data contains multiple positions such as Centers who rarely take 3 pointers let's only use players that are shooting guards. In addition, to avoid bench players and short-term contract players who have limited games, let's only compare those who played in 50 games or more.\n",
    "First let's get a new dataframe with only shooting guards and also only players who played in more than 50 games"
   ]
  },
  {
   "cell_type": "code",
   "execution_count": 71,
   "id": "12d5785b-88df-4ab6-b533-d90a5f35af81",
   "metadata": {},
   "outputs": [
    {
     "data": {
      "text/html": [
       "<div>\n",
       "<style scoped>\n",
       "    .dataframe tbody tr th:only-of-type {\n",
       "        vertical-align: middle;\n",
       "    }\n",
       "\n",
       "    .dataframe tbody tr th {\n",
       "        vertical-align: top;\n",
       "    }\n",
       "\n",
       "    .dataframe thead th {\n",
       "        text-align: right;\n",
       "    }\n",
       "</style>\n",
       "<table border=\"1\" class=\"dataframe\">\n",
       "  <thead>\n",
       "    <tr style=\"text-align: right;\">\n",
       "      <th></th>\n",
       "      <th>Player</th>\n",
       "      <th>Pos</th>\n",
       "      <th>Age</th>\n",
       "      <th>Tm</th>\n",
       "      <th>G</th>\n",
       "      <th>GS</th>\n",
       "      <th>MP</th>\n",
       "      <th>FG</th>\n",
       "      <th>FGA</th>\n",
       "      <th>FG%</th>\n",
       "      <th>...</th>\n",
       "      <th>ORB</th>\n",
       "      <th>DRB</th>\n",
       "      <th>TRB</th>\n",
       "      <th>AST</th>\n",
       "      <th>STL</th>\n",
       "      <th>BLK</th>\n",
       "      <th>TOV</th>\n",
       "      <th>PF</th>\n",
       "      <th>PTS</th>\n",
       "      <th>Player-additional</th>\n",
       "    </tr>\n",
       "    <tr>\n",
       "      <th>Rk</th>\n",
       "      <th></th>\n",
       "      <th></th>\n",
       "      <th></th>\n",
       "      <th></th>\n",
       "      <th></th>\n",
       "      <th></th>\n",
       "      <th></th>\n",
       "      <th></th>\n",
       "      <th></th>\n",
       "      <th></th>\n",
       "      <th></th>\n",
       "      <th></th>\n",
       "      <th></th>\n",
       "      <th></th>\n",
       "      <th></th>\n",
       "      <th></th>\n",
       "      <th></th>\n",
       "      <th></th>\n",
       "      <th></th>\n",
       "      <th></th>\n",
       "      <th></th>\n",
       "    </tr>\n",
       "  </thead>\n",
       "  <tbody>\n",
       "    <tr>\n",
       "      <th>5</th>\n",
       "      <td>Arron Afflalo</td>\n",
       "      <td>SG</td>\n",
       "      <td>29</td>\n",
       "      <td>TOT</td>\n",
       "      <td>78</td>\n",
       "      <td>72</td>\n",
       "      <td>2502</td>\n",
       "      <td>375</td>\n",
       "      <td>884</td>\n",
       "      <td>0.424</td>\n",
       "      <td>...</td>\n",
       "      <td>27</td>\n",
       "      <td>220</td>\n",
       "      <td>247</td>\n",
       "      <td>129</td>\n",
       "      <td>41</td>\n",
       "      <td>7</td>\n",
       "      <td>116</td>\n",
       "      <td>167</td>\n",
       "      <td>1035</td>\n",
       "      <td>afflaar01</td>\n",
       "    </tr>\n",
       "    <tr>\n",
       "      <th>5</th>\n",
       "      <td>Arron Afflalo</td>\n",
       "      <td>SG</td>\n",
       "      <td>29</td>\n",
       "      <td>DEN</td>\n",
       "      <td>53</td>\n",
       "      <td>53</td>\n",
       "      <td>1750</td>\n",
       "      <td>281</td>\n",
       "      <td>657</td>\n",
       "      <td>0.428</td>\n",
       "      <td>...</td>\n",
       "      <td>21</td>\n",
       "      <td>159</td>\n",
       "      <td>180</td>\n",
       "      <td>101</td>\n",
       "      <td>32</td>\n",
       "      <td>5</td>\n",
       "      <td>83</td>\n",
       "      <td>108</td>\n",
       "      <td>771</td>\n",
       "      <td>afflaar01</td>\n",
       "    </tr>\n",
       "    <tr>\n",
       "      <th>11</th>\n",
       "      <td>Tony Allen</td>\n",
       "      <td>SG</td>\n",
       "      <td>33</td>\n",
       "      <td>MEM</td>\n",
       "      <td>63</td>\n",
       "      <td>41</td>\n",
       "      <td>1648</td>\n",
       "      <td>225</td>\n",
       "      <td>455</td>\n",
       "      <td>0.495</td>\n",
       "      <td>...</td>\n",
       "      <td>103</td>\n",
       "      <td>177</td>\n",
       "      <td>280</td>\n",
       "      <td>86</td>\n",
       "      <td>129</td>\n",
       "      <td>30</td>\n",
       "      <td>86</td>\n",
       "      <td>166</td>\n",
       "      <td>539</td>\n",
       "      <td>allento01</td>\n",
       "    </tr>\n",
       "    <tr>\n",
       "      <th>15</th>\n",
       "      <td>Alan Anderson</td>\n",
       "      <td>SG</td>\n",
       "      <td>32</td>\n",
       "      <td>BRK</td>\n",
       "      <td>74</td>\n",
       "      <td>19</td>\n",
       "      <td>1744</td>\n",
       "      <td>195</td>\n",
       "      <td>440</td>\n",
       "      <td>0.443</td>\n",
       "      <td>...</td>\n",
       "      <td>31</td>\n",
       "      <td>173</td>\n",
       "      <td>204</td>\n",
       "      <td>83</td>\n",
       "      <td>56</td>\n",
       "      <td>5</td>\n",
       "      <td>60</td>\n",
       "      <td>148</td>\n",
       "      <td>545</td>\n",
       "      <td>anderal01</td>\n",
       "    </tr>\n",
       "    <tr>\n",
       "      <th>18</th>\n",
       "      <td>Giannis Antetokounmpo</td>\n",
       "      <td>SG</td>\n",
       "      <td>20</td>\n",
       "      <td>MIL</td>\n",
       "      <td>81</td>\n",
       "      <td>71</td>\n",
       "      <td>2541</td>\n",
       "      <td>383</td>\n",
       "      <td>780</td>\n",
       "      <td>0.491</td>\n",
       "      <td>...</td>\n",
       "      <td>100</td>\n",
       "      <td>442</td>\n",
       "      <td>542</td>\n",
       "      <td>207</td>\n",
       "      <td>73</td>\n",
       "      <td>85</td>\n",
       "      <td>173</td>\n",
       "      <td>254</td>\n",
       "      <td>1030</td>\n",
       "      <td>antetgi01</td>\n",
       "    </tr>\n",
       "  </tbody>\n",
       "</table>\n",
       "<p>5 rows × 30 columns</p>\n",
       "</div>"
      ],
      "text/plain": [
       "                   Player Pos  Age   Tm   G  GS    MP   FG  FGA    FG%  ...  \\\n",
       "Rk                                                                      ...   \n",
       "5           Arron Afflalo  SG   29  TOT  78  72  2502  375  884  0.424  ...   \n",
       "5           Arron Afflalo  SG   29  DEN  53  53  1750  281  657  0.428  ...   \n",
       "11             Tony Allen  SG   33  MEM  63  41  1648  225  455  0.495  ...   \n",
       "15          Alan Anderson  SG   32  BRK  74  19  1744  195  440  0.443  ...   \n",
       "18  Giannis Antetokounmpo  SG   20  MIL  81  71  2541  383  780  0.491  ...   \n",
       "\n",
       "    ORB  DRB  TRB  AST  STL  BLK  TOV   PF   PTS  Player-additional  \n",
       "Rk                                                                   \n",
       "5    27  220  247  129   41    7  116  167  1035          afflaar01  \n",
       "5    21  159  180  101   32    5   83  108   771          afflaar01  \n",
       "11  103  177  280   86  129   30   86  166   539          allento01  \n",
       "15   31  173  204   83   56    5   60  148   545          anderal01  \n",
       "18  100  442  542  207   73   85  173  254  1030          antetgi01  \n",
       "\n",
       "[5 rows x 30 columns]"
      ]
     },
     "execution_count": 71,
     "metadata": {},
     "output_type": "execute_result"
    }
   ],
   "source": [
    "sg_2015 = season2015.loc[(season2015['Pos'] == \"SG\") & (season2015['G'] >= 50)]\n",
    "sg_2015.head()"
   ]
  },
  {
   "cell_type": "code",
   "execution_count": 75,
   "id": "b4817cea-1030-4993-a353-76e70e1df761",
   "metadata": {},
   "outputs": [
    {
     "data": {
      "text/plain": [
       "<function matplotlib.pyplot.show(close=None, block=None)>"
      ]
     },
     "execution_count": 75,
     "metadata": {},
     "output_type": "execute_result"
    },
    {
     "data": {
      "image/png": "[encoded data removed]",
      "text/plain": [
       "<Figure size 432x288 with 1 Axes>"
      ]
     },
     "metadata": {
      "needs_background": "light"
     },
     "output_type": "display_data"
    }
   ],
   "source": [
    "ax = plt.axes()\n",
    "ax.bar(sc_30['Player'], sc_30['3PA'], color =\"red\", width = 0.4)\n",
    "ax.bar(\"Average SG player\", sg_2015['3PA'].mean(), color =\"blue\", width = 0.4)\n",
    "plt.xlabel(\"Players\")\n",
    "plt.ylabel(\"3PA\")\n",
    "plt.title(\"3PA (Season 2015): Stephen Curry vs Others SG (Shooting Guards)\")\n",
    "plt.show"
   ]
  },
  {
   "cell_type": "markdown",
   "id": "da5ff33d-ae76-4004-a80e-edcdfa67349a",
   "metadata": {},
   "source": [
    "As you can see, the amount of 3-point attempts that Steph Curry takes is staggering even compared to other players of the same position. It was unpredecented, how many 3-point attempts Steph would try every game."
   ]
  },
  {
   "cell_type": "code",
   "execution_count": 76,
   "id": "cfb29c9b-c382-40dd-bf66-5298c67ae166",
   "metadata": {},
   "outputs": [
    {
     "data": {
      "text/plain": [
       "<function matplotlib.pyplot.show(close=None, block=None)>"
      ]
     },
     "execution_count": 76,
     "metadata": {},
     "output_type": "execute_result"
    },
    {
     "data": {
      "image/png": "[encoded data removed]",
      "text/plain": [
       "<Figure size 432x288 with 1 Axes>"
      ]
     },
     "metadata": {
      "needs_background": "light"
     },
     "output_type": "display_data"
    }
   ],
   "source": [
    "ax = plt.axes()\n",
    "ax.bar(sc_30['Player'], sc_30['3P%'], color =\"red\", width = 0.4)\n",
    "ax.bar(\"Average SG player\", sg_2015['3P%'].mean(), color =\"blue\", width = 0.4)\n",
    "plt.xlabel(\"Players\")\n",
    "plt.ylabel(\"3P%\")\n",
    "plt.title(\"3P% (Season 2015): Stephen Curry vs Others SG (Shooting Guards)\")\n",
    "plt.show"
   ]
  },
  {
   "cell_type": "markdown",
   "id": "7e321a14-3de9-459b-8c19-eb2b697ea5ed",
   "metadata": {},
   "source": [
    "The 3P% is still higher than 5% compared to other shooting gaurds. Although it is not as high as the 10% we got previously from comparing ALL nba players, in terms of basketball analytics 5% difference in 3P% is still very significant considering the fact that Stephen Curry takes more than double 3-point shots than the average shooting guard."
   ]
  },
  {
   "cell_type": "markdown",
   "id": "20f608ba-62eb-409d-ae77-810209b398b8",
   "metadata": {},
   "source": [
    "### Now that we saw just how dominant Stephen Curry was in the 3-point range, let's see if this correlates to winning\n",
    "We understand that the Golden State Warriors with Stephen Curry as the leader won the championship in 2015, but how well did the other teams do in correlation to their 3-point statistics"
   ]
  },
  {
   "cell_type": "markdown",
   "id": "435c85f4-4755-4b76-ae17-bc73c66744c3",
   "metadata": {},
   "source": [
    "In the next block of codes, we will extract the specific data we want using the top_five and bottom_five array list of teams we created in beforehand. Using a for loop we will get 3P%, 3PA, and 3P of the 10 teams and store them in the array list."
   ]
  },
  {
   "cell_type": "code",
   "execution_count": 110,
   "id": "69fd35d3-3158-4664-b1d1-96eefe04b270",
   "metadata": {},
   "outputs": [
    {
     "data": {
      "text/plain": [
       "[2217, 2152, 2680, 2202, 1246]"
      ]
     },
     "execution_count": 110,
     "metadata": {},
     "output_type": "execute_result"
    }
   ],
   "source": [
    "tPA_top5 = []\n",
    "for team in top_five:\n",
    "    value = seasons.loc[(seasons['Team'] == team) & (seasons['Year'] == 2015)]['3PA'].values\n",
    "    tPA_top5.append(value[0])\n",
    "tPA_top5"
   ]
  },
  {
   "cell_type": "markdown",
   "id": "f306fff0-cb4b-4304-8306-03adbce306d2",
   "metadata": {},
   "source": [
    "This is the 3PA of the top 5 teams in 2015"
   ]
  },
  {
   "cell_type": "code",
   "execution_count": 122,
   "id": "f480b1ec-9211-49cb-a000-8e4163d57a72",
   "metadata": {},
   "outputs": [
    {
     "data": {
      "text/plain": [
       "[0.398, 0.38, 0.348, 0.376, 0.339]"
      ]
     },
     "execution_count": 122,
     "metadata": {},
     "output_type": "execute_result"
    }
   ],
   "source": [
    "tPP_top5 = []\n",
    "for team in top_five:\n",
    "    value = seasons.loc[(seasons['Team'] == team) & (seasons['Year'] == 2015)]['3P%'].values\n",
    "    tPP_top5.append(value[0])\n",
    "tPP_top5"
   ]
  },
  {
   "cell_type": "markdown",
   "id": "56b24b84-6829-4731-9d83-73525610d009",
   "metadata": {},
   "source": [
    "This is the 3P% of the top 5 teams in 2015"
   ]
  },
  {
   "cell_type": "code",
   "execution_count": 125,
   "id": "79ed7f80-a79e-4a71-a311-c1ca1869e1fb",
   "metadata": {},
   "outputs": [
    {
     "data": {
      "text/plain": [
       "[883, 818, 933, 827, 423]"
      ]
     },
     "execution_count": 125,
     "metadata": {},
     "output_type": "execute_result"
    }
   ],
   "source": [
    "tP_top5 = []\n",
    "for team in top_five:\n",
    "    value = seasons.loc[(seasons['Team'] == team) & (seasons['Year'] == 2015)]['3P'].values\n",
    "    tP_top5.append(value[0])\n",
    "tP_top5"
   ]
  },
  {
   "cell_type": "markdown",
   "id": "69fd1324-d8a9-4729-8f33-148f8825bc2c",
   "metadata": {},
   "source": [
    "This is the 3P of the top 5 teams in 2015"
   ]
  },
  {
   "cell_type": "code",
   "execution_count": 111,
   "id": "debc4147-40d9-4762-803c-6ccf8fe05bef",
   "metadata": {},
   "outputs": [
    {
     "data": {
      "text/plain": [
       "[1598, 1546, 2160, 1614, 1223]"
      ]
     },
     "execution_count": 111,
     "metadata": {},
     "output_type": "execute_result"
    }
   ],
   "source": [
    "tPA_bot5 = []\n",
    "for team in bottom_five:\n",
    "    value = seasons.loc[(seasons['Team'] == team) & (seasons['Year'] == 2015)]['3PA'].values\n",
    "    tPA_bot5.append(value[0])\n",
    "tPA_bot5"
   ]
  },
  {
   "cell_type": "markdown",
   "id": "bc54b591-5440-406b-8ade-9a4b687e1d2c",
   "metadata": {},
   "source": [
    "This is the 3PA of the bottom 5 teams in 2015"
   ]
  },
  {
   "cell_type": "code",
   "execution_count": 123,
   "id": "90025d06-11e9-4247-a149-c8aacb6b207d",
   "metadata": {},
   "outputs": [
    {
     "data": {
      "text/plain": [
       "[0.347, 0.344, 0.32, 0.347, 0.332]"
      ]
     },
     "execution_count": 123,
     "metadata": {},
     "output_type": "execute_result"
    }
   ],
   "source": [
    "tPP_bot5 = []\n",
    "for team in bottom_five:\n",
    "    value = seasons.loc[(seasons['Team'] == team) & (seasons['Year'] == 2015)]['3P%'].values\n",
    "    tPP_bot5.append(value[0])\n",
    "tPP_bot5"
   ]
  },
  {
   "cell_type": "markdown",
   "id": "26abd009-7f49-4b29-baca-bcc9dcaaf667",
   "metadata": {},
   "source": [
    "This is the 3P% of the bottom 5 teams in 2015"
   ]
  },
  {
   "cell_type": "code",
   "execution_count": 127,
   "id": "cdfc4861-08cc-42bc-b1db-52fb0d178cb3",
   "metadata": {},
   "outputs": [
    {
     "data": {
      "text/plain": [
       "[554, 532, 692, 560, 406]"
      ]
     },
     "execution_count": 127,
     "metadata": {},
     "output_type": "execute_result"
    }
   ],
   "source": [
    "tP_bot5 = []\n",
    "for team in bottom_five:\n",
    "    value = seasons.loc[(seasons['Team'] == team) & (seasons['Year'] == 2015)]['3P'].values\n",
    "    tP_bot5.append(value[0])\n",
    "tP_bot5"
   ]
  },
  {
   "cell_type": "markdown",
   "id": "5b1269ca-5c37-4a66-b358-9825068e1f30",
   "metadata": {},
   "source": [
    "This is the 3P of the bottom 5 teams in 2015"
   ]
  },
  {
   "cell_type": "markdown",
   "id": "019b2ee0-7d7d-4471-9514-c239bba01a3a",
   "metadata": {},
   "source": [
    "Not that we have all the necessary data for the 10 teams, lets plot it using a colored scatter plot to see if there was any correlation in the 3-point statistics and what ranks they were placed."
   ]
  },
  {
   "cell_type": "code",
   "execution_count": 121,
   "id": "acf6708d-4f74-419c-b25b-1354f526037a",
   "metadata": {},
   "outputs": [
    {
     "data": {
      "text/plain": [
       "<function matplotlib.pyplot.show(close=None, block=None)>"
      ]
     },
     "execution_count": 121,
     "metadata": {},
     "output_type": "execute_result"
    },
    {
     "data": {
      "image/png": "[encoded data removed]",
      "text/plain": [
       "<Figure size 432x288 with 1 Axes>"
      ]
     },
     "metadata": {
      "needs_background": "light"
     },
     "output_type": "display_data"
    }
   ],
   "source": [
    "ax = plt.axes()\n",
    "ax.scatter([1,2,3,4,5], tPA_top5, color = \"red\", label = \"Top 5\")\n",
    "ax.scatter([6,7,8,9,10], tPA_bot5, color = \"blue\", label = \"Bottom 5\")\n",
    "plt.xlabel(\"Rankings of Regular Season\")\n",
    "plt.ylabel(\"3PA\")\n",
    "plt.title(\"3PA of top 5 and bottom 5 teams\")\n",
    "plt.legend()\n",
    "plt.show"
   ]
  },
  {
   "cell_type": "code",
   "execution_count": 124,
   "id": "a015bb88-9a48-4efa-9de4-992a8cd30f4d",
   "metadata": {},
   "outputs": [
    {
     "data": {
      "text/plain": [
       "<function matplotlib.pyplot.show(close=None, block=None)>"
      ]
     },
     "execution_count": 124,
     "metadata": {},
     "output_type": "execute_result"
    },
    {
     "data": {
      "image/png": "[encoded data removed]",
      "text/plain": [
       "<Figure size 432x288 with 1 Axes>"
      ]
     },
     "metadata": {
      "needs_background": "light"
     },
     "output_type": "display_data"
    }
   ],
   "source": [
    "ax = plt.axes()\n",
    "ax.scatter([1,2,3,4,5], tPP_top5, color = \"red\", label = \"Top 5\")\n",
    "ax.scatter([6,7,8,9,10], tPP_bot5, color = \"blue\", label = \"Bottom 5\")\n",
    "plt.xlabel(\"Rankings of Regular Season\")\n",
    "plt.ylabel(\"3P%\")\n",
    "plt.title(\"3P% of top 5 and bottom 5 teams\")\n",
    "plt.legend()\n",
    "plt.show"
   ]
  },
  {
   "cell_type": "code",
   "execution_count": 128,
   "id": "9d6f1e00-c402-4007-b396-f2410188e498",
   "metadata": {},
   "outputs": [
    {
     "data": {
      "text/plain": [
       "<function matplotlib.pyplot.show(close=None, block=None)>"
      ]
     },
     "execution_count": 128,
     "metadata": {},
     "output_type": "execute_result"
    },
    {
     "data": {
      "image/png": "[encoded data removed]",
      "text/plain": [
       "<Figure size 432x288 with 1 Axes>"
      ]
     },
     "metadata": {
      "needs_background": "light"
     },
     "output_type": "display_data"
    }
   ],
   "source": [
    "ax = plt.axes()\n",
    "ax.scatter([1,2,3,4,5], tP_top5, color = \"red\", label = \"Top 5\")\n",
    "ax.scatter([6,7,8,9,10], tP_bot5, color = \"blue\", label = \"Bottom 5\")\n",
    "plt.xlabel(\"Rankings of Regular Season\")\n",
    "plt.ylabel(\"3P\")\n",
    "plt.title(\"3P of top 5 and bottom 5 teams\")\n",
    "plt.legend()\n",
    "plt.show"
   ]
  },
  {
   "cell_type": "markdown",
   "id": "a1aab9ac-aefb-4311-b690-cb88806e7f11",
   "metadata": {},
   "source": [
    "From these graphs we can definitely see that the top teams generally have more 3-points made than the bottom teams. There is the one outlier where the 5th ranked team who were the Memphis Grizzlies had almost the same 3 points made as the lowest ranked team. This shows that although the top 4 teams all had higher 3 points made than the bottom 5, there are some \n"
   ]
  }
 ],
 "metadata": {
  "kernelspec": {
   "display_name": "Python 3 (ipykernel)",
   "language": "python",
   "name": "python3"
  },
  "language_info": {
   "codemirror_mode": {
    "name": "ipython",
    "version": 3
   },
   "file_extension": ".py",
   "mimetype": "text/x-python",
   "name": "python",
   "nbconvert_exporter": "python",
   "pygments_lexer": "ipython3",
   "version": "3.9.7"
  }
 },
 "nbformat": 4,
 "nbformat_minor": 5
}
